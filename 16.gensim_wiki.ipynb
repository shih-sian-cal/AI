{
  "nbformat": 4,
  "nbformat_minor": 0,
  "metadata": {
    "colab": {
      "name": "16.gensim_wiki.ipynb",
      "provenance": [],
      "collapsed_sections": [],
      "machine_shape": "hm"
    },
    "kernelspec": {
      "name": "python3",
      "display_name": "Python 3"
    },
    "accelerator": "GPU"
  },
  "cells": [
    {
      "cell_type": "markdown",
      "metadata": {
        "id": "view-in-github"
      },
      "source": [
        "<a href=\"https://colab.research.google.com/github/shhuangmust/AI/blob/110-2/16.gensim_wiki.ipynb\" target=\"_parent\"><img src=\"https://colab.research.google.com/assets/colab-badge.svg\" alt=\"Open In Colab\"/></a>"
      ]
    },
    {
      "cell_type": "markdown",
      "metadata": {
        "id": "Ssk5BSNbelCF"
      },
      "source": [
        "# Word2Vec實作\n",
        "- 字詞所代表的意義非常多元，在不同狀況下，會代表不同意思。要把多元意思用單一向量表示，則必須要進行word embedding的動作，也就是把高維向量降為低維向量的過程\n",
        "- 之前介紹過，利用分散式表示法來表達字詞向量，例如PMI、SVD..統計法..等\n",
        "- 2013年神經網路盛行後，Tomas Mikolov利用神經網路訓練方式，來獲得字詞的表達向量，獲得很棒的成果。一般認為是利用神經網路模擬人類的理解能力，獲得不錯的分布空間所得到的成果。\n",
        "- 本範例以維基百科wiki部分資料作範例\n",
        "- 資料來源：https://dumps.wikimedia.org/zhwiki/20220401/zhwiki-20220401-pages-articles-multistream.xml.bz2\n",
        "- 利用結巴分詞(jieba)進行斷詞，gensim套件進行word2vec計算\n",
        "- 本範例約需1小時長時間執行\n"
      ]
    },
    {
      "cell_type": "code",
      "metadata": {
        "id": "Act-waJIjyD4"
      },
      "source": [
        "# ! wget https://dumps.wikimedia.org/zhwiki/20220401/zhwiki-20220401-pages-articles-multistream.xml.bz2\n"
      ],
      "execution_count": null,
      "outputs": []
    },
    {
      "cell_type": "code",
      "source": [
        "!wget https://dumps.wikimedia.org/zhwiki/20220401/zhwiki-20220401-pages-articles-multistream1.xml-p1p187712.bz2"
      ],
      "metadata": {
        "id": "ylVzFulsmgzB",
        "colab": {
          "base_uri": "https://localhost:8080/"
        },
        "outputId": "8bd3b9bb-c3e0-40d3-98fb-08c3e91745c5"
      },
      "execution_count": 1,
      "outputs": [
        {
          "output_type": "stream",
          "name": "stdout",
          "text": [
            "--2022-04-15 00:38:17--  https://dumps.wikimedia.org/zhwiki/20220401/zhwiki-20220401-pages-articles-multistream1.xml-p1p187712.bz2\n",
            "Resolving dumps.wikimedia.org (dumps.wikimedia.org)... 208.80.154.7, 2620:0:861:1:208:80:154:7\n",
            "Connecting to dumps.wikimedia.org (dumps.wikimedia.org)|208.80.154.7|:443... connected.\n",
            "HTTP request sent, awaiting response... 200 OK\n",
            "Length: 215920539 (206M) [application/octet-stream]\n",
            "Saving to: ‘zhwiki-20220401-pages-articles-multistream1.xml-p1p187712.bz2’\n",
            "\n",
            "zhwiki-20220401-pag 100%[===================>] 205.92M  4.17MB/s    in 52s     \n",
            "\n",
            "2022-04-15 00:39:09 (3.99 MB/s) - ‘zhwiki-20220401-pages-articles-multistream1.xml-p1p187712.bz2’ saved [215920539/215920539]\n",
            "\n"
          ]
        }
      ]
    },
    {
      "cell_type": "code",
      "metadata": {
        "id": "0Ta_qze2iHJi",
        "colab": {
          "base_uri": "https://localhost:8080/"
        },
        "outputId": "7f51a438-03dd-4e77-8937-4afc04e85551"
      },
      "source": [
        "!pip install opencc-python-reimplemented"
      ],
      "execution_count": 2,
      "outputs": [
        {
          "output_type": "stream",
          "name": "stdout",
          "text": [
            "Collecting opencc-python-reimplemented\n",
            "  Downloading opencc-python-reimplemented-0.1.6.tar.gz (484 kB)\n",
            "\u001b[?25l\r\u001b[K     |▊                               | 10 kB 31.8 MB/s eta 0:00:01\r\u001b[K     |█▍                              | 20 kB 38.9 MB/s eta 0:00:01\r\u001b[K     |██                              | 30 kB 28.0 MB/s eta 0:00:01\r\u001b[K     |██▊                             | 40 kB 15.0 MB/s eta 0:00:01\r\u001b[K     |███▍                            | 51 kB 13.6 MB/s eta 0:00:01\r\u001b[K     |████                            | 61 kB 15.9 MB/s eta 0:00:01\r\u001b[K     |████▊                           | 71 kB 15.5 MB/s eta 0:00:01\r\u001b[K     |█████▍                          | 81 kB 13.0 MB/s eta 0:00:01\r\u001b[K     |██████                          | 92 kB 14.4 MB/s eta 0:00:01\r\u001b[K     |██████▊                         | 102 kB 14.8 MB/s eta 0:00:01\r\u001b[K     |███████▍                        | 112 kB 14.8 MB/s eta 0:00:01\r\u001b[K     |████████▏                       | 122 kB 14.8 MB/s eta 0:00:01\r\u001b[K     |████████▉                       | 133 kB 14.8 MB/s eta 0:00:01\r\u001b[K     |█████████▌                      | 143 kB 14.8 MB/s eta 0:00:01\r\u001b[K     |██████████▏                     | 153 kB 14.8 MB/s eta 0:00:01\r\u001b[K     |██████████▉                     | 163 kB 14.8 MB/s eta 0:00:01\r\u001b[K     |███████████▌                    | 174 kB 14.8 MB/s eta 0:00:01\r\u001b[K     |████████████▏                   | 184 kB 14.8 MB/s eta 0:00:01\r\u001b[K     |████████████▉                   | 194 kB 14.8 MB/s eta 0:00:01\r\u001b[K     |█████████████▌                  | 204 kB 14.8 MB/s eta 0:00:01\r\u001b[K     |██████████████▏                 | 215 kB 14.8 MB/s eta 0:00:01\r\u001b[K     |██████████████▉                 | 225 kB 14.8 MB/s eta 0:00:01\r\u001b[K     |███████████████▌                | 235 kB 14.8 MB/s eta 0:00:01\r\u001b[K     |████████████████▎               | 245 kB 14.8 MB/s eta 0:00:01\r\u001b[K     |█████████████████               | 256 kB 14.8 MB/s eta 0:00:01\r\u001b[K     |█████████████████▋              | 266 kB 14.8 MB/s eta 0:00:01\r\u001b[K     |██████████████████▎             | 276 kB 14.8 MB/s eta 0:00:01\r\u001b[K     |███████████████████             | 286 kB 14.8 MB/s eta 0:00:01\r\u001b[K     |███████████████████▋            | 296 kB 14.8 MB/s eta 0:00:01\r\u001b[K     |████████████████████▎           | 307 kB 14.8 MB/s eta 0:00:01\r\u001b[K     |█████████████████████           | 317 kB 14.8 MB/s eta 0:00:01\r\u001b[K     |█████████████████████▋          | 327 kB 14.8 MB/s eta 0:00:01\r\u001b[K     |██████████████████████▎         | 337 kB 14.8 MB/s eta 0:00:01\r\u001b[K     |███████████████████████         | 348 kB 14.8 MB/s eta 0:00:01\r\u001b[K     |███████████████████████▊        | 358 kB 14.8 MB/s eta 0:00:01\r\u001b[K     |████████████████████████▍       | 368 kB 14.8 MB/s eta 0:00:01\r\u001b[K     |█████████████████████████       | 378 kB 14.8 MB/s eta 0:00:01\r\u001b[K     |█████████████████████████▊      | 389 kB 14.8 MB/s eta 0:00:01\r\u001b[K     |██████████████████████████▍     | 399 kB 14.8 MB/s eta 0:00:01\r\u001b[K     |███████████████████████████     | 409 kB 14.8 MB/s eta 0:00:01\r\u001b[K     |███████████████████████████▊    | 419 kB 14.8 MB/s eta 0:00:01\r\u001b[K     |████████████████████████████▍   | 430 kB 14.8 MB/s eta 0:00:01\r\u001b[K     |█████████████████████████████   | 440 kB 14.8 MB/s eta 0:00:01\r\u001b[K     |█████████████████████████████▊  | 450 kB 14.8 MB/s eta 0:00:01\r\u001b[K     |██████████████████████████████▍ | 460 kB 14.8 MB/s eta 0:00:01\r\u001b[K     |███████████████████████████████ | 471 kB 14.8 MB/s eta 0:00:01\r\u001b[K     |███████████████████████████████▉| 481 kB 14.8 MB/s eta 0:00:01\r\u001b[K     |████████████████████████████████| 484 kB 14.8 MB/s \n",
            "\u001b[?25hBuilding wheels for collected packages: opencc-python-reimplemented\n",
            "  Building wheel for opencc-python-reimplemented (setup.py) ... \u001b[?25l\u001b[?25hdone\n",
            "  Created wheel for opencc-python-reimplemented: filename=opencc_python_reimplemented-0.1.6-py2.py3-none-any.whl size=486152 sha256=8e9fd69ce4f22161acaf2a36e88ab1dc31b7813228d84549e98f87c35d99be09\n",
            "  Stored in directory: /root/.cache/pip/wheels/4e/e2/60/d062d260be08788bb389521544a8fc173de9a9a78d6a593344\n",
            "Successfully built opencc-python-reimplemented\n",
            "Installing collected packages: opencc-python-reimplemented\n",
            "Successfully installed opencc-python-reimplemented-0.1.6\n"
          ]
        }
      ]
    },
    {
      "cell_type": "code",
      "metadata": {
        "id": "1BIoy7K5eqIS"
      },
      "source": [
        "from gensim.corpora import WikiCorpus\n",
        "\n",
        "wiki_corpus = WikiCorpus('zhwiki-20220401-pages-articles-multistream1.xml-p1p187712.bz2', dictionary={})"
      ],
      "execution_count": 3,
      "outputs": []
    },
    {
      "cell_type": "code",
      "metadata": {
        "id": "0T7ZZpDr3Sg8",
        "colab": {
          "base_uri": "https://localhost:8080/"
        },
        "outputId": "54f1f8c6-3d2f-4703-f976-09281eac4780"
      },
      "source": [
        "wiki_corpus"
      ],
      "execution_count": 4,
      "outputs": [
        {
          "output_type": "execute_result",
          "data": {
            "text/plain": [
              "<gensim.corpora.wikicorpus.WikiCorpus at 0x7f45414cc110>"
            ]
          },
          "metadata": {},
          "execution_count": 4
        }
      ]
    },
    {
      "cell_type": "code",
      "metadata": {
        "id": "KqX5g3Idsp-V",
        "colab": {
          "base_uri": "https://localhost:8080/"
        },
        "outputId": "d45a8e79-9073-4be3-f4b4-18f011b56eeb"
      },
      "source": [
        "next(iter(wiki_corpus.get_texts()))[:10]"
      ],
      "execution_count": 5,
      "outputs": [
        {
          "output_type": "execute_result",
          "data": {
            "text/plain": [
              "['歐幾里得',\n",
              " '西元前三世紀的古希臘數學家',\n",
              " '現在被認為是幾何之父',\n",
              " '此畫為拉斐爾的作品',\n",
              " '雅典學院',\n",
              " '数学',\n",
              " '是研究數量',\n",
              " '从某种角度看屬於形式科學的一種',\n",
              " '數學利用抽象化和邏輯推理',\n",
              " '從計數']"
            ]
          },
          "metadata": {},
          "execution_count": 5
        }
      ]
    },
    {
      "cell_type": "code",
      "metadata": {
        "id": "AL99YGiSfhGu",
        "colab": {
          "base_uri": "https://localhost:8080/"
        },
        "outputId": "14d91734-b26c-4e05-e4ff-ae58898b9e59"
      },
      "source": [
        "text_num = 0\n",
        "\n",
        "with open('wiki_text.txt', 'w', encoding='utf-8') as f:\n",
        "    for text in wiki_corpus.get_texts():\n",
        "        f.write(' '.join(text)+'\\n')\n",
        "        text_num += 1\n",
        "        if text_num % 10000 == 0:\n",
        "            print('{} articles processed.'.format(text_num))\n",
        "\n",
        "    print('{} articles processed.'.format(text_num))"
      ],
      "execution_count": 6,
      "outputs": [
        {
          "output_type": "stream",
          "name": "stdout",
          "text": [
            "10000 articles processed.\n",
            "20000 articles processed.\n",
            "30000 articles processed.\n",
            "32329 articles processed.\n"
          ]
        }
      ]
    },
    {
      "cell_type": "code",
      "metadata": {
        "id": "FQ01OEi6szXr",
        "colab": {
          "base_uri": "https://localhost:8080/"
        },
        "outputId": "bbb8c79a-dbed-479a-8a77-456528c0cafa"
      },
      "source": [
        "import jieba\n",
        "from opencc import OpenCC\n",
        "\n",
        "\n",
        "# Initial\n",
        "cc = OpenCC('s2t')\n",
        "train_data = open('wiki_text.txt', 'r', encoding='utf-8').read()\n",
        "train_data = cc.convert(train_data)\n",
        "train_data = jieba.lcut(train_data)\n",
        "train_data = [word for word in train_data if word != '']\n",
        "train_data = ' '.join(train_data)\n",
        "open('seg.txt', 'w', encoding='utf-8').write(train_data)"
      ],
      "execution_count": 9,
      "outputs": [
        {
          "output_type": "execute_result",
          "data": {
            "text/plain": [
              "129900316"
            ]
          },
          "metadata": {},
          "execution_count": 9
        }
      ]
    },
    {
      "cell_type": "code",
      "metadata": {
        "id": "FXxRBbays3k0"
      },
      "source": [
        "from gensim.models import word2vec\n",
        "\n",
        "\n",
        "# Settings\n",
        "seed = 666\n",
        "sg = 0\n",
        "window_size = 10\n",
        "vector_size = 100\n",
        "min_count = 1\n",
        "workers = 8\n",
        "epochs = 5\n",
        "batch_words = 10000\n",
        "\n",
        "train_data = word2vec.LineSentence('seg.txt')\n",
        "model = word2vec.Word2Vec(\n",
        "    train_data,\n",
        "    min_count=min_count,\n",
        "    size=vector_size,\n",
        "    workers=workers,\n",
        "    iter=epochs,\n",
        "    window=window_size,\n",
        "    sg=sg,\n",
        "    seed=seed,\n",
        "    batch_words=batch_words\n",
        ")\n",
        "\n",
        "model.save('word2vec.model')"
      ],
      "execution_count": 10,
      "outputs": []
    },
    {
      "cell_type": "code",
      "metadata": {
        "id": "1PovTacQs-R_",
        "colab": {
          "base_uri": "https://localhost:8080/"
        },
        "outputId": "273001b3-8aae-407c-b0bd-e0de86163bb4"
      },
      "source": [
        "from gensim.models import word2vec\n",
        "\n",
        "string = '電腦'\n",
        "model = word2vec.Word2Vec.load('word2vec.model')\n",
        "print(string)\n",
        "\n",
        "for item in model.wv.most_similar(string):\n",
        "    print(item)"
      ],
      "execution_count": 11,
      "outputs": [
        {
          "output_type": "stream",
          "name": "stdout",
          "text": [
            "電腦\n",
            "('軟體', 0.785610556602478)\n",
            "('硬體', 0.7734829187393188)\n",
            "('pda', 0.7692553997039795)\n",
            "('計算機', 0.7656018733978271)\n",
            "('智慧型', 0.7482510805130005)\n",
            "('智能', 0.743144154548645)\n",
            "('晶片', 0.7375905513763428)\n",
            "('遊戲機', 0.7305467128753662)\n",
            "('ibm', 0.7266076803207397)\n",
            "('硬件', 0.7220637798309326)\n"
          ]
        }
      ]
    },
    {
      "cell_type": "code",
      "metadata": {
        "id": "E235am9EVIuG"
      },
      "source": [
        ""
      ],
      "execution_count": null,
      "outputs": []
    }
  ]
}