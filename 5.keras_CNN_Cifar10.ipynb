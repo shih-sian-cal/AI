{
  "nbformat": 4,
  "nbformat_minor": 0,
  "metadata": {
    "colab": {
      "name": "keras_CNN_Cifar10.ipynb",
      "provenance": []
    },
    "kernelspec": {
      "name": "python3",
      "display_name": "Python 3"
    },
    "language_info": {
      "name": "python"
    },
    "accelerator": "GPU"
  },
  "cells": [
    {
      "cell_type": "code",
      "source": [
        "from tensorflow import keras\n",
        "from keras.models import Sequential\n",
        "from keras.layers import Dense, Conv2D, MaxPooling2D, Flatten\n",
        "model=Sequential()\n",
        "model.add(Conv2D(filters=64, kernel_size=(5, 5), input_shape=(32, 32, 3), activation='relu'))\n",
        "model.add(Conv2D(filters=64, kernel_size=(5, 5), activation='relu'))\n",
        "model.add(MaxPooling2D(pool_size=(2, 2)))\n",
        "model.add(Conv2D(filters=128, kernel_size=(5, 5), activation='relu'))\n",
        "model.add(Conv2D(filters=128, kernel_size=(5, 5), activation='relu'))\n",
        "model.add(MaxPooling2D(pool_size=(2, 2)))\n",
        "model.add(Flatten())\n",
        "model.add(Dense(10, activation='softmax'))\n",
        "model.summary()\n",
        "model.compile(optimizer='rmsprop', loss='categorical_crossentropy', metrics=['accuracy'])"
      ],
      "metadata": {
        "colab": {
          "base_uri": "https://localhost:8080/"
        },
        "id": "LQ_HZ-tK8L-C",
        "outputId": "777e766f-5b68-4761-989f-0afca80f4c57"
      },
      "execution_count": 1,
      "outputs": [
        {
          "output_type": "stream",
          "name": "stdout",
          "text": [
            "Model: \"sequential\"\n",
            "_________________________________________________________________\n",
            " Layer (type)                Output Shape              Param #   \n",
            "=================================================================\n",
            " conv2d (Conv2D)             (None, 28, 28, 64)        4864      \n",
            "                                                                 \n",
            " conv2d_1 (Conv2D)           (None, 24, 24, 64)        102464    \n",
            "                                                                 \n",
            " max_pooling2d (MaxPooling2D  (None, 12, 12, 64)       0         \n",
            " )                                                               \n",
            "                                                                 \n",
            " conv2d_2 (Conv2D)           (None, 8, 8, 128)         204928    \n",
            "                                                                 \n",
            " conv2d_3 (Conv2D)           (None, 4, 4, 128)         409728    \n",
            "                                                                 \n",
            " max_pooling2d_1 (MaxPooling  (None, 2, 2, 128)        0         \n",
            " 2D)                                                             \n",
            "                                                                 \n",
            " flatten (Flatten)           (None, 512)               0         \n",
            "                                                                 \n",
            " dense (Dense)               (None, 10)                5130      \n",
            "                                                                 \n",
            "=================================================================\n",
            "Total params: 727,114\n",
            "Trainable params: 727,114\n",
            "Non-trainable params: 0\n",
            "_________________________________________________________________\n"
          ]
        }
      ]
    },
    {
      "cell_type": "code",
      "source": [
        "cifar10=keras.datasets.cifar10\n",
        "(train_data, train_label), (test_data, test_label) = cifar10.load_data()\n",
        "train_label_original=train_label\n",
        "train_label = keras.utils.to_categorical(train_label)\n",
        "test_label = keras.utils.to_categorical(test_label)"
      ],
      "metadata": {
        "id": "4eM5EOSr4DLB"
      },
      "execution_count": 2,
      "outputs": []
    },
    {
      "cell_type": "code",
      "source": [
        "import matplotlib.pyplot as plt\n",
        "category=['airplane','automobile','bird','cat','deer','dog','frog','horse','ship','truck']\n",
        "plt.imshow(train_data[0])\n",
        "plt.title(category[int(train_label_original[0])])\n",
        "plt.show()\n",
        "print(train_label_original[0])"
      ],
      "metadata": {
        "colab": {
          "base_uri": "https://localhost:8080/",
          "height": 298
        },
        "id": "4j8cPTbDahQr",
        "outputId": "80151645-6202-4112-ccd5-6a16d61ddee0"
      },
      "execution_count": 3,
      "outputs": [
        {
          "output_type": "display_data",
          "data": {
            "image/png": "[encoded data removed]",
            "text/plain": [
              "<Figure size 432x288 with 1 Axes>"
            ]
          },
          "metadata": {
            "needs_background": "light"
          }
        },
        {
          "output_type": "stream",
          "name": "stdout",
          "text": [
            "[6]\n"
          ]
        }
      ]
    },
    {
      "cell_type": "code",
      "source": [
        "train_history=model.fit(train_data,train_label,epochs=20,batch_size=512)"
      ],
      "metadata": {
        "id": "UFCQb8bgy3nU",
        "colab": {
          "base_uri": "https://localhost:8080/"
        },
        "outputId": "aa5c2061-406a-46ee-d653-959d0fb2e950"
      },
      "execution_count": 4,
      "outputs": [
        {
          "output_type": "stream",
          "name": "stdout",
          "text": [
            "Epoch 1/20\n",
            "98/98 [==============================] - 16s 104ms/step - loss: 14.6453 - accuracy: 0.1753\n",
            "Epoch 2/20\n",
            "98/98 [==============================] - 9s 89ms/step - loss: 2.4551 - accuracy: 0.1874\n",
            "Epoch 3/20\n",
            "98/98 [==============================] - 9s 90ms/step - loss: 2.1550 - accuracy: 0.2770\n",
            "Epoch 4/20\n",
            "98/98 [==============================] - 9s 89ms/step - loss: 1.9049 - accuracy: 0.3543\n",
            "Epoch 5/20\n",
            "98/98 [==============================] - 9s 89ms/step - loss: 1.7062 - accuracy: 0.4183\n",
            "Epoch 6/20\n",
            "98/98 [==============================] - 9s 89ms/step - loss: 1.6166 - accuracy: 0.4608\n",
            "Epoch 7/20\n",
            "98/98 [==============================] - 9s 91ms/step - loss: 1.5937 - accuracy: 0.4610\n",
            "Epoch 8/20\n",
            "98/98 [==============================] - 9s 90ms/step - loss: 1.3643 - accuracy: 0.5337\n",
            "Epoch 9/20\n",
            "98/98 [==============================] - 9s 89ms/step - loss: 1.2302 - accuracy: 0.5794\n",
            "Epoch 10/20\n",
            "98/98 [==============================] - 9s 89ms/step - loss: 1.1058 - accuracy: 0.6233\n",
            "Epoch 11/20\n",
            "98/98 [==============================] - 9s 90ms/step - loss: 1.0148 - accuracy: 0.6573\n",
            "Epoch 12/20\n",
            "98/98 [==============================] - 9s 89ms/step - loss: 0.9062 - accuracy: 0.6917\n",
            "Epoch 13/20\n",
            "98/98 [==============================] - 9s 89ms/step - loss: 0.7910 - accuracy: 0.7311\n",
            "Epoch 14/20\n",
            "98/98 [==============================] - 9s 89ms/step - loss: 0.7035 - accuracy: 0.7641\n",
            "Epoch 15/20\n",
            "98/98 [==============================] - 9s 90ms/step - loss: 0.6043 - accuracy: 0.7950\n",
            "Epoch 16/20\n",
            "98/98 [==============================] - 9s 90ms/step - loss: 0.5245 - accuracy: 0.8241\n",
            "Epoch 17/20\n",
            "98/98 [==============================] - 9s 89ms/step - loss: 0.4685 - accuracy: 0.8437\n",
            "Epoch 18/20\n",
            "98/98 [==============================] - 9s 89ms/step - loss: 0.3944 - accuracy: 0.8708\n",
            "Epoch 19/20\n",
            "98/98 [==============================] - 9s 90ms/step - loss: 0.3651 - accuracy: 0.8815\n",
            "Epoch 20/20\n",
            "98/98 [==============================] - 9s 89ms/step - loss: 0.3442 - accuracy: 0.8915\n"
          ]
        }
      ]
    },
    {
      "cell_type": "code",
      "source": [
        "score=model.evaluate(test_data, test_label)\n",
        "print(score[1])"
      ],
      "metadata": {
        "id": "SC2VW7yl87F-",
        "colab": {
          "base_uri": "https://localhost:8080/"
        },
        "outputId": "8b3ac6de-5789-4c5b-cac8-9cbeee578851"
      },
      "execution_count": 5,
      "outputs": [
        {
          "output_type": "stream",
          "name": "stdout",
          "text": [
            "313/313 [==============================] - 3s 9ms/step - loss: 2.2106 - accuracy: 0.5985\n",
            "0.5985000133514404\n"
          ]
        }
      ]
    },
    {
      "cell_type": "code",
      "source": [
        "#繪製正確性與損失立歷史圖\n",
        "import matplotlib.pyplot as plt\n",
        "import numpy as np\n",
        "\n",
        "def show_train_history(train_history, train):\n",
        "    plt.plot(train_history.history[train])\n",
        "    plt.title('Train History')\n",
        "    plt.ylabel(train)\n",
        "    plt.xlabel('Epoch')\n",
        "    plt.legend(['train'], loc='center right')\n",
        "    plt.show()\n",
        "\n",
        "show_train_history(train_history, 'accuracy')\n",
        "show_train_history(train_history, 'loss')"
      ],
      "metadata": {
        "colab": {
          "base_uri": "https://localhost:8080/",
          "height": 573
        },
        "id": "YycOQ_auS_1s",
        "outputId": "74a34445-69a5-4c6b-d819-44839a94763a"
      },
      "execution_count": 6,
      "outputs": [
        {
          "output_type": "display_data",
          "data": {
            "image/png": "[encoded data removed]",
            "text/plain": [
              "<Figure size 432x288 with 1 Axes>"
            ]
          },
          "metadata": {
            "needs_background": "light"
          }
        },
        {
          "output_type": "display_data",
          "data": {
            "image/png": "[encoded data removed]",
            "text/plain": [
              "<Figure size 432x288 with 1 Axes>"
            ]
          },
          "metadata": {
            "needs_background": "light"
          }
        }
      ]
    },
    {
      "cell_type": "code",
      "source": [
        ""
      ],
      "metadata": {
        "id": "PJeMWcO-TaSA"
      },
      "execution_count": 6,
      "outputs": []
    }
  ]
}