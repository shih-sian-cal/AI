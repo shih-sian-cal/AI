{
  "nbformat": 4,
  "nbformat_minor": 0,
  "metadata": {
    "colab": {
      "name": "9.MNIST_RNN.ipynb",
      "provenance": [],
      "collapsed_sections": []
    },
    "kernelspec": {
      "name": "python3",
      "display_name": "Python 3"
    },
    "accelerator": "GPU"
  },
  "cells": [
    {
      "cell_type": "code",
      "metadata": {
        "id": "et5W7D46vNS4",
        "colab_type": "code",
        "colab": {
          "base_uri": "https://localhost:8080/",
          "height": 1000
        },
        "outputId": "518c746e-6e2d-494d-fb92-6e76f23baf1f"
      },
      "source": [
        "from keras.datasets import mnist\n",
        "from keras.layers import Dense, LSTM\n",
        "from keras.utils import to_categorical\n",
        "from keras.models import Sequential\n",
        "\n",
        "#parameters for LSTM\n",
        "nb_lstm_outputs = 30  \n",
        "nb_time_steps = 28  \n",
        "nb_input_vector = 28 \n",
        "\n",
        "#data preprocessing: tofloat32, normalization, one_hot encoding\n",
        "(x_train, y_train), (x_test, y_test) = mnist.load_data()\n",
        "x_train = x_train.astype('float32')\n",
        "x_test = x_test.astype('float32')\n",
        "x_train /= 255\n",
        "x_test /= 255\n",
        " \n",
        "y_train = to_categorical(y_train, num_classes=10)\n",
        "y_test = to_categorical(y_test, num_classes=10)\n",
        "\n",
        "#build model\n",
        "model = Sequential()\n",
        "model.add(LSTM(units=nb_lstm_outputs, input_shape=(nb_time_steps, nb_input_vector)))\n",
        "model.add(Dense(10, activation='softmax'))\n",
        "\n",
        "#compile:loss, optimizer, metrics\n",
        "model.compile(loss='categorical_crossentropy', optimizer='adam', metrics=['accuracy'])\n",
        "#train: epcoch, batch_size\n",
        "model.fit(x_train, y_train, epochs=20, batch_size=128, verbose=1)\n",
        "\n",
        "model.summary()\n",
        "\n",
        "score = model.evaluate(x_test, y_test,batch_size=128, verbose=1)\n",
        "print(score)"
      ],
      "execution_count": 1,
      "outputs": [
        {
          "output_type": "stream",
          "text": [
            "Using TensorFlow backend.\n"
          ],
          "name": "stderr"
        },
        {
          "output_type": "stream",
          "text": [
            "Downloading data from https://s3.amazonaws.com/img-datasets/mnist.npz\n",
            "11493376/11490434 [==============================] - 1s 0us/step\n",
            "Epoch 1/20\n",
            "60000/60000 [==============================] - 25s 420us/step - loss: 1.0346 - accuracy: 0.6702\n",
            "Epoch 2/20\n",
            "60000/60000 [==============================] - 24s 393us/step - loss: 0.3401 - accuracy: 0.9010\n",
            "Epoch 3/20\n",
            "60000/60000 [==============================] - 24s 392us/step - loss: 0.2204 - accuracy: 0.9368\n",
            "Epoch 4/20\n",
            "60000/60000 [==============================] - 24s 395us/step - loss: 0.1699 - accuracy: 0.9501\n",
            "Epoch 5/20\n",
            "60000/60000 [==============================] - 23s 383us/step - loss: 0.1406 - accuracy: 0.9602\n",
            "Epoch 6/20\n",
            "60000/60000 [==============================] - 24s 392us/step - loss: 0.1205 - accuracy: 0.9655\n",
            "Epoch 7/20\n",
            "60000/60000 [==============================] - 23s 384us/step - loss: 0.1088 - accuracy: 0.9686\n",
            "Epoch 8/20\n",
            "60000/60000 [==============================] - 23s 383us/step - loss: 0.0986 - accuracy: 0.9710\n",
            "Epoch 9/20\n",
            "60000/60000 [==============================] - 23s 381us/step - loss: 0.0921 - accuracy: 0.9731\n",
            "Epoch 10/20\n",
            "60000/60000 [==============================] - 23s 381us/step - loss: 0.0849 - accuracy: 0.9755\n",
            "Epoch 11/20\n",
            "60000/60000 [==============================] - 23s 382us/step - loss: 0.0793 - accuracy: 0.9769\n",
            "Epoch 12/20\n",
            "60000/60000 [==============================] - 23s 387us/step - loss: 0.0736 - accuracy: 0.9782\n",
            "Epoch 13/20\n",
            "60000/60000 [==============================] - 23s 387us/step - loss: 0.0690 - accuracy: 0.9799\n",
            "Epoch 14/20\n",
            "60000/60000 [==============================] - 23s 381us/step - loss: 0.0653 - accuracy: 0.9808\n",
            "Epoch 15/20\n",
            "60000/60000 [==============================] - 23s 380us/step - loss: 0.0620 - accuracy: 0.9814\n",
            "Epoch 16/20\n",
            "60000/60000 [==============================] - 23s 384us/step - loss: 0.0595 - accuracy: 0.9822\n",
            "Epoch 17/20\n",
            "60000/60000 [==============================] - 23s 384us/step - loss: 0.0576 - accuracy: 0.9823\n",
            "Epoch 18/20\n",
            "60000/60000 [==============================] - 23s 389us/step - loss: 0.0539 - accuracy: 0.9834\n",
            "Epoch 19/20\n",
            "60000/60000 [==============================] - 24s 398us/step - loss: 0.0509 - accuracy: 0.9846\n",
            "Epoch 20/20\n",
            "60000/60000 [==============================] - 25s 409us/step - loss: 0.0496 - accuracy: 0.9850\n",
            "Model: \"sequential_1\"\n",
            "_________________________________________________________________\n",
            "Layer (type)                 Output Shape              Param #   \n",
            "=================================================================\n",
            "lstm_1 (LSTM)                (None, 30)                7080      \n",
            "_________________________________________________________________\n",
            "dense_1 (Dense)              (None, 10)                310       \n",
            "=================================================================\n",
            "Total params: 7,390\n",
            "Trainable params: 7,390\n",
            "Non-trainable params: 0\n",
            "_________________________________________________________________\n",
            "10000/10000 [==============================] - 0s 50us/step\n",
            "[0.061080921726301314, 0.9818000197410583]\n"
          ],
          "name": "stdout"
        }
      ]
    }
  ]
}